{
 "cells": [
  {
   "cell_type": "code",
   "execution_count": null,
   "id": "4e01ca2f",
   "metadata": {},
   "outputs": [
    {
     "name": "stdout",
     "output_type": "stream",
     "text": [
      "C:\\Users\\Dell\\OneDrive\\jbooks\n"
     ]
    }
   ],
   "source": [
    "import numpy as np\n",
    "import pandas as pd\n",
    "import os\n",
    "import os\n",
    "os.chdir(r\"C:\\Users\\Dell\\OneDrive\\jbooks\")\n",
    "print(os.getcwd())\n"
   ]
  },
  {
   "cell_type": "code",
   "execution_count": null,
   "id": "bb6d9892",
   "metadata": {},
   "outputs": [],
   "source": [
    "df = pd.read_csv('hacktrain.csv')"
   ]
  },
  {
   "cell_type": "code",
   "execution_count": null,
   "id": "f2460538",
   "metadata": {},
   "outputs": [
    {
     "data": {
      "text/plain": [
       "class\n",
       "forest        6159\n",
       "farm           841\n",
       "impervious     669\n",
       "grass          196\n",
       "water          105\n",
       "orchard         30\n",
       "Name: count, dtype: int64"
      ]
     },
     "execution_count": 47,
     "metadata": {},
     "output_type": "execute_result"
    }
   ],
   "source": [
    "df['class'].value_counts()"
   ]
  },
  {
   "cell_type": "code",
   "execution_count": null,
   "id": "2fd25126",
   "metadata": {},
   "outputs": [],
   "source": [
    "df.drop(columns='Unnamed: 0', inplace=True)"
   ]
  },
  {
   "cell_type": "code",
   "execution_count": null,
   "id": "bc51a7ae",
   "metadata": {},
   "outputs": [
    {
     "data": {
      "text/plain": [
       "ID               0\n",
       "class            0\n",
       "20150720_N     560\n",
       "20150602_N    1200\n",
       "20150517_N     800\n",
       "20150501_N     960\n",
       "20150415_N     480\n",
       "20150330_N    1120\n",
       "20150314_N     720\n",
       "20150226_N    1360\n",
       "20150210_N     640\n",
       "20150125_N    1040\n",
       "20150109_N     880\n",
       "20141117_N    1280\n",
       "20141101_N     400\n",
       "20141016_N    1440\n",
       "20140930_N     800\n",
       "20140813_N     560\n",
       "20140626_N    1600\n",
       "20140610_N     480\n",
       "20140525_N     720\n",
       "20140509_N     880\n",
       "20140423_N    1760\n",
       "20140407_N     640\n",
       "20140322_N    1120\n",
       "20140218_N    1440\n",
       "20140202_N     560\n",
       "20140117_N    1200\n",
       "20140101_N     400\n",
       "dtype: int64"
      ]
     },
     "execution_count": 49,
     "metadata": {},
     "output_type": "execute_result"
    }
   ],
   "source": [
    "df.isnull().sum()"
   ]
  },
  {
   "cell_type": "code",
   "execution_count": null,
   "id": "8b990384",
   "metadata": {},
   "outputs": [],
   "source": [
    "from sklearn.impute import KNNImputer\n",
    "\n",
    "features = df.drop(columns=['ID', 'class']).columns\n",
    "imputer = KNNImputer(n_neighbors=5)\n",
    "\n",
    "imputed_parts = []\n",
    "\n",
    "for class_val, group in df.groupby('class'):\n",
    "    temp = group.copy()\n",
    "    imputed_values = imputer.fit_transform(temp[features])\n",
    "    temp[features] = imputed_values\n",
    "    imputed_parts.append(temp)\n",
    "\n",
    "df = pd.concat(imputed_parts).sort_index()"
   ]
  },
  {
   "cell_type": "code",
   "execution_count": null,
   "id": "0e7f9fc2",
   "metadata": {},
   "outputs": [
    {
     "data": {
      "text/plain": [
       "ID            0\n",
       "class         0\n",
       "20150720_N    0\n",
       "20150602_N    0\n",
       "20150517_N    0\n",
       "20150501_N    0\n",
       "20150415_N    0\n",
       "20150330_N    0\n",
       "20150314_N    0\n",
       "20150226_N    0\n",
       "20150210_N    0\n",
       "20150125_N    0\n",
       "20150109_N    0\n",
       "20141117_N    0\n",
       "20141101_N    0\n",
       "20141016_N    0\n",
       "20140930_N    0\n",
       "20140813_N    0\n",
       "20140626_N    0\n",
       "20140610_N    0\n",
       "20140525_N    0\n",
       "20140509_N    0\n",
       "20140423_N    0\n",
       "20140407_N    0\n",
       "20140322_N    0\n",
       "20140218_N    0\n",
       "20140202_N    0\n",
       "20140117_N    0\n",
       "20140101_N    0\n",
       "dtype: int64"
      ]
     },
     "execution_count": 51,
     "metadata": {},
     "output_type": "execute_result"
    }
   ],
   "source": [
    "df.isnull().sum()"
   ]
  },
  {
   "cell_type": "code",
   "execution_count": null,
   "id": "6cff2a32",
   "metadata": {},
   "outputs": [],
   "source": [
    "from scipy.stats import zscore\n",
    "filtered_df = df.copy()\n",
    "def zs(data, categories):\n",
    "    for col in data.drop(columns=['ID', 'class']).columns:\n",
    "        for category in categories:\n",
    "            subset = data[data['class'] == category]\n",
    "            col_zscores = zscore(subset[col].dropna())\n",
    "            z_indexed = pd.Series(col_zscores, index=subset[col].dropna().index)\n",
    "            outlier_index = z_indexed[abs(z_indexed) > 2].index\n",
    "            data = data.drop(index=outlier_index)\n",
    "    return data"
   ]
  },
  {
   "cell_type": "code",
   "execution_count": null,
   "id": "7c153eb0",
   "metadata": {},
   "outputs": [],
   "source": [
    "categories = ['impervious', 'forest', 'farm', 'grass', 'orchard',\"water\"]\n",
    "filtered_df = zs(filtered_df, categories)"
   ]
  },
  {
   "cell_type": "code",
   "execution_count": null,
   "id": "fc2cfd81",
   "metadata": {},
   "outputs": [
    {
     "data": {
      "text/plain": [
       "class\n",
       "forest        2980\n",
       "farm           256\n",
       "impervious     174\n",
       "grass           69\n",
       "water           18\n",
       "orchard         14\n",
       "Name: count, dtype: int64"
      ]
     },
     "execution_count": 54,
     "metadata": {},
     "output_type": "execute_result"
    }
   ],
   "source": [
    "filtered_df['class'].value_counts()"
   ]
  },
  {
   "cell_type": "code",
   "execution_count": null,
   "id": "b550ae42",
   "metadata": {},
   "outputs": [],
   "source": [
    "from sklearn.linear_model import LogisticRegression\n",
    "from sklearn.model_selection import train_test_split\n",
    "from sklearn.preprocessing import LabelEncoder\n",
    "from sklearn.metrics import classification_report\n",
    "\n",
    "label_encoder = LabelEncoder()\n",
    "filtered_df['class'] = label_encoder.fit_transform(filtered_df['class'])\n",
    "\n",
    "X = filtered_df.drop(columns=['class', 'ID'])\n",
    "y = filtered_df['class']\n",
    "\n",
    "X_train, X_test, y_train, y_test = train_test_split(\n",
    "    X, y, test_size=0.2, stratify=y)\n",
    "\n",
    "model = LogisticRegression(\n",
    "    multi_class='multinomial',\n",
    "    solver='lbfgs',\n",
    "    max_iter=10000\n",
    ")\n",
    "model.fit(X_train, y_train)\n",
    "\n",
    "y_pred = model.predict(X_test)\n",
    "\n",
    "print(classification_report(\n",
    "    y_test,\n",
    "    y_pred,\n",
    "    labels=list(range(len(label_encoder.classes_))),\n",
    "    target_names=label_encoder.classes_\n",
    "))"
   ]
  },
  {
   "cell_type": "code",
   "execution_count": null,
   "id": "ce63b097",
   "metadata": {},
   "outputs": [
    {
     "data": {
      "text/plain": [
       "(2845, 29)"
      ]
     },
     "execution_count": 41,
     "metadata": {},
     "output_type": "execute_result"
    }
   ],
   "source": [
    "test_data = pd.read_csv(\"hacktest.csv\")\n",
    "test_data.shape"
   ]
  },
  {
   "cell_type": "code",
   "execution_count": null,
   "id": "66355a5b",
   "metadata": {},
   "outputs": [],
   "source": [
    "ID = test_data['ID']\n",
    "test_data.drop(columns = ['Unnamed: 0', 'ID'], inplace=True)"
   ]
  },
  {
   "cell_type": "code",
   "execution_count": null,
   "id": "eba2379f",
   "metadata": {},
   "outputs": [],
   "source": [
    "y_test = model.predict(test_data)\n",
    "y_test = label_encoder.inverse_transform(y_test)"
   ]
  },
  {
   "cell_type": "code",
   "execution_count": null,
   "id": "a133fdce",
   "metadata": {},
   "outputs": [],
   "source": [
    "result = pd.DataFrame({'ID': ID, 'class': y_test})\n",
    "result.to_csv(\"output.csv\", index=False)"
   ]
  }
 ],
 "metadata": {
  "kernelspec": {
   "display_name": "venv",
   "language": "python",
   "name": "python3"
  },
  "language_info": {
   "codemirror_mode": {
    "name": "ipython",
    "version": 3
   },
   "file_extension": ".py",
   "mimetype": "text/x-python",
   "name": "python",
   "nbconvert_exporter": "python",
   "pygments_lexer": "ipython3",
   "version": "3.13.0"
  }
 },
 "nbformat": 4,
 "nbformat_minor": 5
}
