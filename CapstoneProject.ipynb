{
  "nbformat": 4,
  "nbformat_minor": 0,
  "metadata": {
    "colab": {
      "provenance": [],
      "authorship_tag": "ABX9TyPzhVhVViwFPYg4oQ5WIYxf",
      "include_colab_link": true
    },
    "kernelspec": {
      "name": "python3",
      "display_name": "Python 3"
    },
    "language_info": {
      "name": "python"
    }
  },
  "cells": [
    {
      "cell_type": "markdown",
      "metadata": {
        "id": "view-in-github",
        "colab_type": "text"
      },
      "source": [
        "<a href=\"https://colab.research.google.com/github/bhavyaJ-05/summer-analytics-assignments-quiz/blob/main/CapstoneProject.ipynb\" target=\"_parent\"><img src=\"https://colab.research.google.com/assets/colab-badge.svg\" alt=\"Open In Colab\"/></a>"
      ]
    },
    {
      "cell_type": "markdown",
      "source": [
        "## Installing pathway and bokeh\n"
      ],
      "metadata": {
        "id": "on3_u1tEd19p"
      }
    },
    {
      "cell_type": "code",
      "execution_count": null,
      "metadata": {
        "id": "SSmIeH9kdpoF",
        "collapsed": true
      },
      "outputs": [],
      "source": [
        "!pip install pathway bokeh --quiet"
      ]
    },
    {
      "cell_type": "markdown",
      "source": [
        "## Importing all the relevant libraries"
      ],
      "metadata": {
        "id": "mg-n4FcFd-AR"
      }
    },
    {
      "cell_type": "code",
      "source": [
        "import numpy as np\n",
        "import pandas as pd\n",
        "import matplotlib.pyplot as plt\n",
        "import datetime\n",
        "from datetime import datetime\n",
        "import pathway as pw\n",
        "import bokeh.plotting\n",
        "import panel as pn"
      ],
      "metadata": {
        "id": "QcPAFmXWdvrF",
        "collapsed": true
      },
      "execution_count": null,
      "outputs": []
    },
    {
      "cell_type": "markdown",
      "source": [
        "## Step 1: Importing and Preprocessing the Data"
      ],
      "metadata": {
        "id": "hvQF3QQBeEOd"
      }
    },
    {
      "cell_type": "code",
      "source": [
        "from google.colab import files\n",
        "uploaded = files.upload()"
      ],
      "metadata": {
        "id": "jFhWq-creBPi",
        "collapsed": true
      },
      "execution_count": null,
      "outputs": []
    },
    {
      "cell_type": "code",
      "source": [
        "df = pd.read_csv('dataset.csv')\n",
        "df"
      ],
      "metadata": {
        "id": "Z-LlaSpoeIrI",
        "collapsed": true
      },
      "execution_count": null,
      "outputs": []
    },
    {
      "cell_type": "code",
      "source": [
        "# Combine the 'LastUpdatedDate' and 'LastUpdatedTime' columns into a single datetime column\n",
        "df['Timestamp'] = pd.to_datetime(df['LastUpdatedDate'] + ' ' + df['LastUpdatedTime'],\n",
        "                                  format='%d-%m-%Y %H:%M:%S')\n",
        "\n",
        "# Sort the DataFrame by the new 'Timestamp' column and reset the index\n",
        "df = df.sort_values('Timestamp').reset_index(drop=True)"
      ],
      "metadata": {
        "id": "S_jhYcODeNoV"
      },
      "execution_count": null,
      "outputs": []
    },
    {
      "cell_type": "code",
      "source": [
        "df_modified = df.drop(['LastUpdatedDate', 'LastUpdatedTime','ID','Latitude','Longitude'], axis=1).copy()"
      ],
      "metadata": {
        "id": "BZq5ZTA6ePpn"
      },
      "execution_count": null,
      "outputs": []
    },
    {
      "cell_type": "code",
      "source": [
        "df_modified.head()"
      ],
      "metadata": {
        "id": "GoxiM6YLeSmo",
        "collapsed": true
      },
      "execution_count": null,
      "outputs": []
    },
    {
      "cell_type": "markdown",
      "source": [
        "## making assumptions for the model based on trial/error.\n",
        "mapping cycle as 0.1 ,bike as 0.3,car as 0.7 and truck as 1.0\n",
        "mapping traffic low as 0.2 , average as 0.7 and high as 1.0\n",
        "making a new feature names occRate that is the occupancy/capacity\n",
        "lastly dividing quelength by 10 for basic scaling"
      ],
      "metadata": {
        "id": "At5FxHVqeXUN"
      }
    },
    {
      "cell_type": "code",
      "source": [
        "mapping = {'car': 0.7, 'bike': 0.3, 'truck': 1,'cycle': 0.1}\n",
        "mapp = {'low': 0.2 , 'average': 0.7 , 'high': 1}\n",
        "df_modified['VehicleType'] = df_modified['VehicleType'].str.strip().str.lower()\n",
        "df_modified['TrafficConditionNearby'] = df_modified['TrafficConditionNearby'].str.strip().str.lower()\n",
        "# Overwrite the original column with mapped integers\n",
        "df_modified['VehicleType'] = df_modified['VehicleType'].map(mapping)\n",
        "df_modified['TrafficConditionNearby'] = df_modified['TrafficConditionNearby'].map(mapp)\n",
        "df_modified['occRate'] = df_modified['Occupancy']/df_modified['Capacity']\n",
        "df_modified['QueueLength'] = df_modified['QueueLength']/10"
      ],
      "metadata": {
        "id": "2pRhrJFceT-M"
      },
      "execution_count": null,
      "outputs": []
    },
    {
      "cell_type": "code",
      "source": [
        "df_modified.head()"
      ],
      "metadata": {
        "id": "5jk27l2sfAZ4",
        "collapsed": true
      },
      "execution_count": null,
      "outputs": []
    },
    {
      "cell_type": "code",
      "source": [
        "# Save the selected columns to a CSV file for streaming or downstream processing\n",
        "df_modified.to_csv(\"parking_stream.csv\", index=False)"
      ],
      "metadata": {
        "id": "rjfnlFHMfB8t"
      },
      "execution_count": null,
      "outputs": []
    },
    {
      "cell_type": "code",
      "source": [
        "df_modified.dtypes"
      ],
      "metadata": {
        "id": "dXJrGyj8fHVh",
        "collapsed": true
      },
      "execution_count": null,
      "outputs": []
    },
    {
      "cell_type": "code",
      "source": [
        "# Define the schema for the streaming data using Pathway\n",
        "# This schema specifies the expected structure of each data row in the stream\n",
        "\n",
        "class ParkingSchema(pw.Schema):\n",
        "    SystemCodeNumber: str\n",
        "    VehicleType: float\n",
        "    TrafficConditionNearby: float\n",
        "    QueueLength: \tfloat\n",
        "    IsSpecialDay: int\n",
        "    Timestamp: str\n",
        "    Occupancy: int\n",
        "    Capacity: int\n",
        "    occRate: float"
      ],
      "metadata": {
        "id": "_NVIr-4-fKa9"
      },
      "execution_count": null,
      "outputs": []
    },
    {
      "cell_type": "code",
      "source": [
        "# Load the data as a simulated stream using Pathway's replay_csv function\n",
        "# This replays the CSV data at a controlled input rate to mimic real-time streaming\n",
        "# input_rate=1000 means approximately 1000 rows per second will be ingested into the stream.\n",
        "\n",
        "data = pw.demo.replay_csv(\"parking_stream.csv\", schema=ParkingSchema, input_rate=100)"
      ],
      "metadata": {
        "id": "oeGbQ75pfQlZ"
      },
      "execution_count": null,
      "outputs": []
    },
    {
      "cell_type": "code",
      "source": [
        "# # Define the datetime format to parse the 'Timestamp' column\n",
        "fmt = \"%Y-%m-%d %H:%M:%S\"\n",
        "\n",
        "# # Add new columns to the data stream:\n",
        "# # - 't' contains the parsed full datetime\n",
        "# # - 'day' extracts the date part and resets the time to midnight (useful for day-level aggregations)\n",
        "# # - 'lot_id extracts the tags of all the parking lots(14 here)\n",
        "data_with_time = data.with_columns(\n",
        "    t = data.Timestamp.dt.strptime(fmt),\n",
        "    day = data.Timestamp.dt.strptime(fmt).dt.strftime(\"%Y-%m-%dT00:00:00\"),\n",
        "    lot_id = pw.this.SystemCodeNumber\n",
        ")"
      ],
      "metadata": {
        "id": "7kQNf9_4fTK7"
      },
      "execution_count": null,
      "outputs": []
    },
    {
      "cell_type": "markdown",
      "source": [
        "## Step 2: Making a simple pricing function and the more complex one ."
      ],
      "metadata": {
        "id": "Dyr9QGY6f9up"
      }
    },
    {
      "cell_type": "code",
      "source": [
        "# Define a daily tumbling window over the data stream using Pathway\n",
        "# This block performs temporal aggregation and computes a dynamic price for each day\n",
        "import datetime\n",
        "\n",
        "delta_window = (\n",
        "    data_with_time.windowby(\n",
        "        pw.this.t,  # Event time column to use for windowing (parsed datetime)\n",
        "        instance=(pw.this.lot_id, pw.this.day),  # Logical partitioning key: one instance per calendar day\n",
        "        window=pw.temporal.tumbling(datetime.timedelta(days=1)),  # Fixed-size daily window\n",
        "        behavior=pw.temporal.exactly_once_behavior()  # Guarantees exactly-once processing semantics\n",
        "    )\n",
        "    .reduce(\n",
        "\n",
        "        t  = pw.this._pw_window_end,\n",
        "        occ_max=pw.reducers.max(pw.this.Occupancy),\n",
        "        occ_min=pw.reducers.min(pw.this.Occupancy),\n",
        "        cap=pw.reducers.max(pw.this.Capacity),\n",
        "        lot_id          = pw.reducers.max(pw.this.lot_id),\n",
        "        occ_rate_sum    = pw.reducers.sum(pw.this.occRate),\n",
        "        queue_sum       = pw.reducers.sum(pw.this.QueueLength),\n",
        "        traffic_sum     = pw.reducers.sum(pw.this.TrafficConditionNearby),\n",
        "        special_sum     = pw.reducers.sum(pw.this.IsSpecialDay),\n",
        "        veh_type_sum    = pw.reducers.sum(pw.this.VehicleType),\n",
        "        count           = pw.reducers.count()\n",
        "    )\n",
        "    .with_columns(\n",
        "\n",
        "        # Intuition:\n",
        "        # - The greater the difference between peak and low occupancy in a day,\n",
        "        #   the more volatile the demand is, indicating potential scarcity.\n",
        "        # - Dividing by capacity normalizes the fluctuation (to stay in [0,1] range).\n",
        "        # - This fluctuation is added to the base price of 10 to set the final price\n",
        "\n",
        "        occ_rate_avg = pw.this.occ_rate_sum / pw.this.count,\n",
        "        queue_avg    = pw.this.queue_sum / pw.this.count,\n",
        "        traffic_avg  = pw.this.traffic_sum / pw.this.count,\n",
        "        special_avg  = pw.this.special_sum / pw.this.count,\n",
        "        veh_type_avg = pw.this.veh_type_sum / pw.this.count,\n",
        "\n",
        "    )\n",
        "\n",
        "    .with_columns(\n",
        "        price=10 + (pw.this.occ_max - pw.this.occ_min) / pw.this.cap,\n",
        "\n",
        "        demand_raw = (\n",
        "            pw.this.occ_rate_avg\n",
        "            + pw.this.queue_avg\n",
        "            - pw.this.traffic_avg\n",
        "            + pw.this.special_avg\n",
        "            + pw.this.veh_type_avg\n",
        "        )\n",
        "    )\n",
        "\n",
        "    .with_columns(\n",
        "        price_demand = 10*(1 + 0.2 * pw.this.demand_raw)\n",
        "    )\n",
        ")"
      ],
      "metadata": {
        "id": "ocotkd7ofeoP"
      },
      "execution_count": null,
      "outputs": []
    },
    {
      "cell_type": "code",
      "source": [
        "print(delta_window.keys())"
      ],
      "metadata": {
        "id": "xAu45ntXf1gU",
        "collapsed": true
      },
      "execution_count": null,
      "outputs": []
    },
    {
      "cell_type": "markdown",
      "source": [
        "## Step 3: Visualizing Daily Price Fluctuations with a Bokeh Plot"
      ],
      "metadata": {
        "id": "9CNRelPjgG3v"
      }
    },
    {
      "cell_type": "markdown",
      "source": [
        "Note: The Bokeh plot in the next cell will only be generated after you run the pw.run() cell (i.e., the final cell)."
      ],
      "metadata": {
        "id": "Xzt0befvgIsk"
      }
    },
    {
      "cell_type": "code",
      "source": [
        "# Activate the Panel extension to enable interactive visualizations\n",
        "pn.extension()\n",
        "\n",
        "# Define a custom Bokeh plotting function that takes a data source (from Pathway) and returns a figure\n",
        "def price_plotter(source,lot_name):\n",
        "    # Create a Bokeh figure with datetime x-axis\n",
        "    fig = bokeh.plotting.figure(\n",
        "        height=400,\n",
        "        width=800,\n",
        "        title=f\"Lot {lot_name} – Daily price\",\n",
        "        x_axis_type=\"datetime\",  # Ensure time-based data is properly formatted on the x-axis\n",
        "    )\n",
        "    # Plot a line graph showing how the price evolves over time\n",
        "    fig.line(\"t\", \"price\", source=source, line_width=2, color=\"navy\", legend_label=\"Linear-Based Price\")\n",
        "\n",
        "    # Overlay red circles at each data point for better visibility\n",
        "    fig.circle(\"t\", \"price\", source=source, size=6, color=\"red\")\n",
        "\n",
        "    fig.line(\"t\", \"price_demand\", source=source, line_width=2, color=\"green\", legend_label=\"Demand-Based Price\")\n",
        "    fig.circle(\"t\", \"price_demand\", source=source, size=5, color=\"green\")\n",
        "\n",
        "    return fig"
      ],
      "metadata": {
        "id": "E7mJN7_1f3cb"
      },
      "execution_count": null,
      "outputs": []
    },
    {
      "cell_type": "code",
      "source": [
        "df['SystemCodeNumber'].unique()"
      ],
      "metadata": {
        "id": "mWLLvhQigNx7",
        "collapsed": true
      },
      "execution_count": null,
      "outputs": []
    },
    {
      "cell_type": "code",
      "source": [
        "import panel as pn\n",
        "\n",
        "# Initialize Panel extension (only needed once)\n",
        "pn.extension()\n",
        "\n",
        "lot_ids = ['BHMBCCMKT01', 'BHMNCPHST01', 'BHMMBMMBX01', 'BHMNCPNST01',\n",
        "           'Shopping', 'BHMEURBRD01', 'Broad Street', 'Others-CCCPS8',\n",
        "           'Others-CCCPS105a', 'Others-CCCPS119a', 'BHMBCCTHL01',\n",
        "           'Others-CCCPS135a', 'Others-CCCPS202', 'Others-CCCPS98']\n",
        "\n",
        "tabs = []\n",
        "\n",
        "for lid in lot_ids:\n",
        "    lot_stream = delta_window.filter(pw.this.lot_id == lid)\n",
        "    viz = lot_stream.plot(\n",
        "        lambda src, lid=lid: price_plotter(src, lid),\n",
        "        sorting_col=\"t\"\n",
        "    )\n",
        "    # Each tab is a tuple of (label, panel object)\n",
        "    tabs.append((lid, viz))\n",
        "\n",
        "# Display as a tabbed layout\n",
        "pn.Tabs(*tabs).servable(title=\"Daily price per parking space\")"
      ],
      "metadata": {
        "id": "wx3vyNakgQEr",
        "collapsed": true
      },
      "execution_count": null,
      "outputs": []
    },
    {
      "cell_type": "code",
      "source": [
        "# Start the Pathway pipeline execution in the background\n",
        "# - This triggers the real-time data stream processing defined above\n",
        "# - %%capture --no-display suppresses output in the notebook interface\n",
        "\n",
        "%%capture --no-display\n",
        "pw.run()"
      ],
      "metadata": {
        "id": "V0g5kyKlgSdP",
        "collapsed": true
      },
      "execution_count": null,
      "outputs": []
    },
    {
      "cell_type": "code",
      "source": [],
      "metadata": {
        "id": "zy9JAGw2gUsr"
      },
      "execution_count": null,
      "outputs": []
    }
  ]
}