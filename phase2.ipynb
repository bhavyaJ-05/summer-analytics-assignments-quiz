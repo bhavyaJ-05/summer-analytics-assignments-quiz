{
 "cells": [
  {
   "cell_type": "markdown",
   "id": "c4fdbc8b",
   "metadata": {},
   "source": [
    "Numpy Array operations\n"
   ]
  },
  {
   "cell_type": "code",
   "execution_count": 1,
   "id": "5e04b4a6",
   "metadata": {},
   "outputs": [],
   "source": [
    "import numpy as np"
   ]
  },
  {
   "cell_type": "code",
   "execution_count": null,
   "id": "6dfa03f6",
   "metadata": {},
   "outputs": [
    {
     "name": "stdout",
     "output_type": "stream",
     "text": [
      "basic slicing: 10 6\n"
     ]
    }
   ],
   "source": [
    "arr = np.array([[1,2,3],[8,9,10],\n",
    "                [4,5,6],[15,16,17]])\n",
    "print(\"basic Indexing:\",arr[1,2],arr[2,2])"
   ]
  },
  {
   "cell_type": "code",
   "execution_count": 9,
   "id": "3ee4465f",
   "metadata": {},
   "outputs": [
    {
     "name": "stdout",
     "output_type": "stream",
     "text": [
      "basic Slicing  [3 4 5 6 7] [3 4 5 6 7 8]\n"
     ]
    }
   ],
   "source": [
    "arr = np.array([1,2,3,4,5,6,7,8,9,10])\n",
    "print(\"basic Slicing \",arr[2:7],arr[2:8])"
   ]
  },
  {
   "cell_type": "code",
   "execution_count": 18,
   "id": "9cb66122",
   "metadata": {},
   "outputs": [
    {
     "name": "stdout",
     "output_type": "stream",
     "text": [
      "basic indexing  9\n",
      "basic Slicing  [[1 2]\n",
      " [4 5]\n",
      " [7 8]]\n",
      "basic Slicing  [[1 2 3]\n",
      " [4 5 6]]\n",
      "[4 5 6]\n",
      "[2 5 8]\n"
     ]
    }
   ],
   "source": [
    "arr = np.array([[1,2,3],\n",
    "               [4,5,6],\n",
    "               [7,8,9]])\n",
    "print(\"basic indexing \", arr[2,2])\n",
    "print(\"basic Slicing \", arr[0:3,0:2])\n",
    "print(\"basic Slicing \", arr[0:2,0:3])\n",
    "print(arr[1])\n",
    "print(arr[:,1])"
   ]
  },
  {
   "cell_type": "markdown",
   "id": "bf5fa549",
   "metadata": {},
   "source": [
    "SORTING"
   ]
  },
  {
   "cell_type": "code",
   "execution_count": 21,
   "id": "c3b6989b",
   "metadata": {},
   "outputs": [
    {
     "name": "stdout",
     "output_type": "stream",
     "text": [
      "sorted array : [ 1  2  3  3  4  5  6  7  8  9 10]\n",
      "sorted array  [ 1  2  3  3  4  5  6  7  8  9 10]\n"
     ]
    }
   ],
   "source": [
    "unsorted = np.array([1,5,3,7,8,3,2,4,6,10,9])\n",
    "unsorted.sort()\n",
    "print(\"sorted array :\", unsorted[:])\n",
    "unsorted1 = np.array([1,5,3,7,8,3,2,4,6,10,9])\n",
    "print(\"sorted array \",np.sort(unsorted1))"
   ]
  },
  {
   "cell_type": "code",
   "execution_count": 25,
   "id": "5065aa47",
   "metadata": {},
   "outputs": [
    {
     "name": "stdout",
     "output_type": "stream",
     "text": [
      "column wise sorted array:\n",
      "  [[1 1]\n",
      " [2 1]\n",
      " [3 2]]\n",
      "row wise sorted array:\n",
      "  [[1 3]\n",
      " [1 2]\n",
      " [1 2]]\n"
     ]
    }
   ],
   "source": [
    "arr_2d_unsorted = np.array([[3,1],\n",
    "                           [1,2],\n",
    "                           [2,1]])\n",
    "print(\"column wise sorted array:\\n \", np.sort(arr_2d_unsorted,axis = 0))\n",
    "print(\"row wise sorted array:\\n \", np.sort(arr_2d_unsorted,axis = 1))"
   ]
  },
  {
   "cell_type": "markdown",
   "id": "e0758b01",
   "metadata": {},
   "source": [
    "Filtering and Filtering by mask"
   ]
  },
  {
   "cell_type": "code",
   "execution_count": 31,
   "id": "23b55872",
   "metadata": {},
   "outputs": [
    {
     "name": "stdout",
     "output_type": "stream",
     "text": [
      "even numbers in numbers :  [ 2  4  6  8 10]\n",
      "[False False False False False  True  True  True  True  True]\n",
      " numbers > 5 in numbers :  [ 6  7  8  9 10]\n"
     ]
    }
   ],
   "source": [
    "numbers = np.array([1,2,3,4,5,6,7,8,9,10])\n",
    "print(\"even numbers in numbers : \",numbers[numbers%2==0])\n",
    "mask = numbers > 5\n",
    "print(mask)\n",
    "print(\" numbers > 5 in numbers : \",numbers[mask])\n"
   ]
  },
  {
   "cell_type": "markdown",
   "id": "0d9c1321",
   "metadata": {},
   "source": [
    "fancy indexing and np.where()"
   ]
  },
  {
   "cell_type": "code",
   "execution_count": 30,
   "id": "a7eaa221",
   "metadata": {},
   "outputs": [
    {
     "name": "stdout",
     "output_type": "stream",
     "text": [
      "fancy indexing :  [1 3 5 7 9]\n",
      "(array([5, 6, 7, 8, 9]),)\n",
      "result using where  [ 6  7  8  9 10]\n"
     ]
    }
   ],
   "source": [
    "indices = [0,2,4,6,8]\n",
    "print(\"fancy indexing : \", numbers[indices])\n",
    "\n",
    "where_use_case = np.where(numbers > 5)\n",
    "print(where_use_case)\n",
    "print(\"result using where \",numbers[where_use_case])"
   ]
  },
  {
   "cell_type": "code",
   "execution_count": 35,
   "id": "676964cc",
   "metadata": {},
   "outputs": [
    {
     "data": {
      "text/plain": [
       "array([0. , 2.5, 5. , 7.5])"
      ]
     },
     "execution_count": 35,
     "metadata": {},
     "output_type": "execute_result"
    }
   ],
   "source": [
    "np.linspace(0, 10, 4, endpoint=False)"
   ]
  },
  {
   "cell_type": "code",
   "execution_count": null,
   "id": "589f78a8",
   "metadata": {},
   "outputs": [
    {
     "name": "stdout",
     "output_type": "stream",
     "text": [
      "[ 1  2  3  4  5 24 28 32 36 40]\n",
      "['False' 'False' 'False' 'False' 'False' 'True' 'True' 'True' 'True'\n",
      " 'True']\n"
     ]
    }
   ],
   "source": [
    "numbers = np.array([1,2,3,4,5,6,7,8,9,10])\n",
    "conditional_array = np.where(numbers > 5,numbers * 4,numbers)\n",
    "print(conditional_array)\n",
    "##basically its like if else, if numbers[i] > 5 , numbers[i] * 4 , else number[i] = numbers[i] only\n",
    "conditional_arr = np.where(numbers > 5,\"True\",\"False\")\n",
    "print(conditional_arr)\n",
    "## ternary operator man lete hain !"
   ]
  },
  {
   "cell_type": "markdown",
   "id": "3c391284",
   "metadata": {},
   "source": [
    "combining array "
   ]
  },
  {
   "cell_type": "code",
   "execution_count": 45,
   "id": "7cf07437",
   "metadata": {},
   "outputs": [
    {
     "name": "stdout",
     "output_type": "stream",
     "text": [
      "combined array : [1 2 3 4 5 6]\n"
     ]
    }
   ],
   "source": [
    "arr1 = np.array([1,2,3])\n",
    "arr2 = np.array([4,5,6])\n",
    "## what not to do : combined = arr1 + arr2\n",
    "## returns summation of all the aij values\n",
    "\n",
    "combined = np.concatenate((arr1,arr2))\n",
    "print(\"combined array :\" ,combined)"
   ]
  },
  {
   "cell_type": "markdown",
   "id": "9603a224",
   "metadata": {},
   "source": [
    "array compatibility "
   ]
  },
  {
   "cell_type": "code",
   "execution_count": 47,
   "id": "b0f6bb3b",
   "metadata": {},
   "outputs": [
    {
     "name": "stdout",
     "output_type": "stream",
     "text": [
      "compatibility :  True\n"
     ]
    }
   ],
   "source": [
    "a = np.array([1,2,3])\n",
    "b = np.array([1,2,3])\n",
    "c = np.array([1,2,3])\n",
    "\n",
    "print(\"compatibility : \", a.shape == b.shape)\n"
   ]
  },
  {
   "cell_type": "markdown",
   "id": "be33eb93",
   "metadata": {},
   "source": [
    "addition of a new column or a new row"
   ]
  },
  {
   "cell_type": "code",
   "execution_count": 52,
   "id": "c1e21aee",
   "metadata": {},
   "outputs": [
    {
     "name": "stdout",
     "output_type": "stream",
     "text": [
      "[[ 1  2  3]\n",
      " [ 4  5  6]\n",
      " [ 7  8  9]\n",
      " [10 11 12]]\n",
      "\n",
      " [[ 1  2  3 20]\n",
      " [ 4  5  6 21]\n",
      " [ 7  8  9 22]]\n"
     ]
    }
   ],
   "source": [
    "original = np.array([[1,2,3],\n",
    "                    [4,5,6],\n",
    "                    [7,8,9]])\n",
    "new_row = np.array([10,11,12])\n",
    "new_column = np.array([[20],[21],[22]])\n",
    "\n",
    "with_new_row = np.vstack((original,new_row))\n",
    "with_new_column = np.hstack((original,new_column))\n",
    "\n",
    "print(with_new_row)\n",
    "print(\"\\n\",with_new_column)\n"
   ]
  },
  {
   "cell_type": "markdown",
   "id": "d166652e",
   "metadata": {},
   "source": [
    "Deletion \n"
   ]
  },
  {
   "cell_type": "code",
   "execution_count": 54,
   "id": "6b331dab",
   "metadata": {},
   "outputs": [
    {
     "name": "stdout",
     "output_type": "stream",
     "text": [
      "[ 1  2  4  5  6  7  8  9 10]\n"
     ]
    }
   ],
   "source": [
    "arr = np.array([1,2,3,4,5,6,7,8,9,10])\n",
    "deleted = np.delete(arr,2)   #its and array not the deleted element\n",
    "print(deleted)"
   ]
  },
  {
   "cell_type": "code",
   "execution_count": null,
   "id": "e84d89c2",
   "metadata": {},
   "outputs": [],
   "source": []
  }
 ],
 "metadata": {
  "kernelspec": {
   "display_name": "venv",
   "language": "python",
   "name": "python3"
  },
  "language_info": {
   "codemirror_mode": {
    "name": "ipython",
    "version": 3
   },
   "file_extension": ".py",
   "mimetype": "text/x-python",
   "name": "python",
   "nbconvert_exporter": "python",
   "pygments_lexer": "ipython3",
   "version": "3.13.0"
  }
 },
 "nbformat": 4,
 "nbformat_minor": 5
}
