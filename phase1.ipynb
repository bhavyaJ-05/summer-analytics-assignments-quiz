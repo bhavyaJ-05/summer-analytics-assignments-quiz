{
 "cells": [
  {
   "cell_type": "markdown",
   "id": "70292200-c3f8-4854-92d9-3c8e2876aec2",
   "metadata": {},
   "source": [
    "this is a jupyter notebook"
   ]
  },
  {
   "cell_type": "code",
   "execution_count": 1,
   "id": "32a0ecf5-2529-4c87-ada4-540087cb4c07",
   "metadata": {},
   "outputs": [
    {
     "name": "stdout",
     "output_type": "stream",
     "text": [
      "hello world\n"
     ]
    }
   ],
   "source": [
    "print(\"hello world\")\n"
   ]
  },
  {
   "cell_type": "code",
   "execution_count": 2,
   "id": "1837f557",
   "metadata": {},
   "outputs": [],
   "source": [
    "import numpy as np"
   ]
  },
  {
   "cell_type": "markdown",
   "id": "9b0a0aaa",
   "metadata": {},
   "source": [
    "Creating array from list"
   ]
  },
  {
   "cell_type": "code",
   "execution_count": 4,
   "id": "7effd968",
   "metadata": {},
   "outputs": [
    {
     "name": "stdout",
     "output_type": "stream",
     "text": [
      "[1 2 3 4 5]\n"
     ]
    }
   ],
   "source": [
    "arr_1d = np.array([1,2,3,4,5])\n",
    "print(arr_1d)"
   ]
  },
  {
   "cell_type": "code",
   "execution_count": 9,
   "id": "14adafc0",
   "metadata": {},
   "outputs": [
    {
     "name": "stdout",
     "output_type": "stream",
     "text": [
      "[[1 2 5]\n",
      " [4 5 6]]\n"
     ]
    }
   ],
   "source": [
    "arr_2d = np.array([[1,2,5],[4,5,6]])\n",
    "print(arr_2d)"
   ]
  },
  {
   "cell_type": "code",
   "execution_count": 10,
   "id": "f3c10d29",
   "metadata": {},
   "outputs": [],
   "source": [
    "list = [1,2,3,4,5]"
   ]
  },
  {
   "cell_type": "code",
   "execution_count": 17,
   "id": "d7fd008b",
   "metadata": {},
   "outputs": [
    {
     "name": "stdout",
     "output_type": "stream",
     "text": [
      "[1, 2, 3, 4, 5, 1, 2, 3, 4, 5]\n",
      "[ 2  4  6  8 10]\n",
      "[[ 2  4 10]\n",
      " [ 8 10 12]]\n"
     ]
    }
   ],
   "source": [
    "py_multiplication = list * 2\n",
    "arr_multiplication = arr_1d * 2\n",
    "print(py_multiplication)\n",
    "print(arr_multiplication)\n",
    "print(arr_2d * 2)"
   ]
  },
  {
   "cell_type": "code",
   "execution_count": 19,
   "id": "58b295c0",
   "metadata": {},
   "outputs": [
    {
     "name": "stdout",
     "output_type": "stream",
     "text": [
      "[0, 1, 2, 3, 4, 5, 6, 7, 8, 9]\n"
     ]
    }
   ],
   "source": [
    "py_list = [i for i in range(10)]\n",
    "print(py_list)"
   ]
  },
  {
   "cell_type": "code",
   "execution_count": 36,
   "id": "b2245ff5",
   "metadata": {},
   "outputs": [
    {
     "name": "stdout",
     "output_type": "stream",
     "text": [
      "\n",
      "time required for execution: 0.0026161670684814453\n"
     ]
    }
   ],
   "source": [
    "import time\n",
    "start = time.time()\n",
    "py_list = [i*2 for i in range(10)]\n",
    "print(\"\\ntime required for execution:\",time.time()-start)\n",
    "\n",
    "# start = time.time()\n",
    "# py_arr = np.arange(10)\n",
    "# print(\"\\ntime required for execution:\",time.time()-start)\n"
   ]
  },
  {
   "cell_type": "code",
   "execution_count": 37,
   "id": "03fe882c",
   "metadata": {},
   "outputs": [
    {
     "name": "stdout",
     "output_type": "stream",
     "text": [
      "\n",
      "time required for execution: 0.0025115013122558594\n"
     ]
    }
   ],
   "source": [
    "import time\n",
    "start = time.time()\n",
    "py_arr = np.arange(10)\n",
    "print(\"\\ntime required for execution:\",time.time()-start)"
   ]
  },
  {
   "cell_type": "code",
   "execution_count": null,
   "id": "3f1592d1",
   "metadata": {},
   "outputs": [],
   "source": []
  }
 ],
 "metadata": {
  "kernelspec": {
   "display_name": "venv",
   "language": "python",
   "name": "python3"
  },
  "language_info": {
   "codemirror_mode": {
    "name": "ipython",
    "version": 3
   },
   "file_extension": ".py",
   "mimetype": "text/x-python",
   "name": "python",
   "nbconvert_exporter": "python",
   "pygments_lexer": "ipython3",
   "version": "3.13.0"
  }
 },
 "nbformat": 4,
 "nbformat_minor": 5
}
